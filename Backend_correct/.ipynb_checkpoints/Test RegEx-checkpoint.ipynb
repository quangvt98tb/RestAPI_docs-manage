{
 "cells": [
  {
   "cell_type": "code",
   "execution_count": 1,
   "metadata": {},
   "outputs": [],
   "source": [
    "import re"
   ]
  },
  {
   "cell_type": "code",
   "execution_count": 28,
   "metadata": {},
   "outputs": [
    {
     "name": "stdout",
     "output_type": "stream",
     "text": [
      "Tim kiem thanh cong.\n"
     ]
    }
   ],
   "source": [
    "pattern = '^<...s$'\n",
    "test_string = '<ayss'\n",
    "result = re.match(pattern, test_string)\n",
    "if result:\n",
    "  print(\"Tim kiem thanh cong.\")\n",
    "else:\n",
    "  print(\"Tim kiem khong thanh cong.\")"
   ]
  },
  {
   "cell_type": "code",
   "execution_count": null,
   "metadata": {},
   "outputs": [],
   "source": [
    "raw = \"<p>theo bố con <i>ơi</i>.</p>\"  "
   ]
  },
  {
   "cell_type": "code",
   "execution_count": null,
   "metadata": {},
   "outputs": [],
   "source": [
    "# []: ký tự muốn khớp\n",
    "# [abc] sẽ khớp nếu chuỗi bạn truyền có chứa bất kỳ ký tự a, b hoặc c nào.\n",
    "# [a-e] tương tự với [abcde].\n",
    "# [1-4] tương tự với [1234].\n",
    "# [0-39] tương tự với [01239]\n",
    "\n",
    "# Nếu ký tự đầu tiên của tập hợp là ^ thì tất cả các ký tự không được định nghĩa trong tập hợp sẽ được so khớp.\n",
    "# [^abc] nghĩa là khớp với các chuỗi không có ký tự a, b hay c.\n",
    "# [^0-9] nghĩa là khớp với các chuỗi không có ký tự chữ số nào.\n",
    "\n",
    "# Dấu chấm khớp với bất kỳ ký tự đơn thông thường nào ngoại trừ ký tự tạo dòng mới '\\n'.\n",
    "\n",
    "# Biểu tượng dấu mũ ^ được sử dụng để khớp ký tự đứng đầu một chuỗi.\n",
    "\n",
    "# Biểu tượng Dollar $ được sử dụng để khớp ký tự kết thúc một chuỗi.\n",
    "\n",
    "# Biểu tượng dấu hoa thị * có thể khớp với chuỗi có hoặc không có ký tự được định nghĩa trước nó. \n",
    "##   Ký tự này có thể được lặp lại nhiều lần mà không bị giới hạn số lượng.\n",
    "\n",
    "# Biểu tượng dấu cộng + có thể khớp với chuỗi có một hoặc nhiều ký tự được định nghĩa trước nó. \n",
    "## Ký tự này có thể được lặp lại nhiều lần mà không bị giới hạn số lượng.\n",
    "\n",
    "#Biểu tượng dấu chấm hỏi có thể khớp với chuỗi có hoặc không có ký tự được định nghĩa trước nó. \n",
    "## Ký tự này không thể được lặp lại nhiều lần, chỉ giới hạn số lượng với một lần xuất hiện.\n",
    "\n",
    "# Dấu ngoặc nhọn sử dụng theo công thức tổng quát: {n,m}, \n",
    "## đại diện cho việc ký tự đằng trước nó có thể xuất hiện tối thiểu n lần vào tối đa m lần. \n",
    "### n và m là số nguyên dương và n <= m.\n",
    "\n",
    "# Biểu tượng dấu sổ dọc | này có thể khớp với chuỗi tồn tại 1 trong 2 ký tự được định nghĩa trước và sau nó.\n",
    "\n",
    "# Dấu ngoặc đơn () được sử dụng để gom nhóm các pattern lại với nhau, \n",
    "## chuỗi sẽ khớp với biểu thức chính quy bên trong dấu ngoặc này.\n",
    "\n",
    "# Dấu gạch chéo ngược được sử dụng để thoát các ký tự đặc biệt, nghĩa là khi đứng trước một kí tự đặc biệt, \n",
    "## \\ sẽ biến kí tự này thành một kí tự thường, bạn có thể tìm kiếm kí tự đặc biệt này trong chuỗi như các kí tự thường khác.\n",
    "\n",
    "# re.findall(): trả về một danh sách các chuỗi chứa tất cả các kết quả khớp với pattern đưa ra.\n",
    "# re.split(): dùng biểu thức chính quy để ngắt chuỗi thành các chuỗi con và trả về danh sách các chuỗi con này.\n",
    "# re.sub(): sẽ thay thế tất cả các kết quả khớp với pattern trong chuỗi bằng một nội dung khác được truyền vào \n",
    "## và trả về chuỗi đã được sửa đổi.\n",
    "\n",
    "# re.subn(): ử dụng tương tự như re.sub();  chuỗi mới sau khi được thay thế và số lần thay thế đã thực hiện.\n",
    "# re.search(): sử dụng để tìm kiếm chuỗi phù hợp với pattern RegEx. Nếu tìm kiếm thành công, re.search() trả về đối tượng khớp\n",
    "\n",
    "# Khi tiền tố r hoặc R được sử dụng trước một biểu thức chính quy đại diện \n",
    "## cho việc chuỗi tiếp sau nó chỉ là những ký tự bình thường.\n",
    "\n",
    "# match.group(): "
   ]
  },
  {
   "cell_type": "code",
   "execution_count": 13,
   "metadata": {},
   "outputs": [],
   "source": [
    "import re\n",
    "\n",
    "string = '<ol><li class=\"ql-align-center\"><em>Em không là nàng thơ, anh cũng không còn là nhạc sĩ mộng mơ.</em></li><li class=\"ql-align-center\"><em>Tình này nhẹ như gió, lại trĩu lên tim ta những vết hằn.</em></li></ol>'\n",
    "pattern = '\\s'\n",
    "\n",
    "# result = re.split(pattern, string) \n",
    "# print(result)"
   ]
  },
  {
   "cell_type": "code",
   "execution_count": 25,
   "metadata": {},
   "outputs": [
    {
     "name": "stdout",
     "output_type": "stream",
     "text": [
      "not ok\n"
     ]
    }
   ],
   "source": [
    "match = re.search(';', string)\n",
    "if match: \n",
    "    print('ok')\n",
    "else: \n",
    "    print('not ok')"
   ]
  },
  {
   "cell_type": "code",
   "execution_count": 41,
   "metadata": {},
   "outputs": [],
   "source": [
    "dau = '.,;?:!'\n",
    "replace_dau = []\n",
    "for i in dau:\n",
    "    replace = ''\n",
    "    replace = '<' + i + '>'\n",
    "    replace_dau.append(replace)\n",
    "    "
   ]
  },
  {
   "cell_type": "code",
   "execution_count": 42,
   "metadata": {},
   "outputs": [],
   "source": [
    "def encode_daucau(text_raw):\n",
    "    text = text_raw\n",
    "    for i in dau:\n",
    "        match = re.search(i, text)\n",
    "        if match:\n",
    "            replace = ' <'+ i + '> '\n",
    "            text = text.replace(i,replace)\n",
    "        else: \n",
    "            text = text\n",
    "    return text\n",
    "\n",
    "def decode_daucau(word):\n",
    "    for (index,i) in enumerate(replace_dau):\n",
    "        if word == i:\n",
    "            return dau[index]\n",
    "        return word[1]"
   ]
  },
  {
   "cell_type": "code",
   "execution_count": 43,
   "metadata": {},
   "outputs": [
    {
     "data": {
      "text/plain": [
       "'<ol> <li class=\"ql-align-center\"> <em> Em không là nàng thơ, anh cũng không còn là nhạc sĩ mộng mơ.</em> </li> <li class=\"ql-align-center\"> <em> Tình này nhẹ như gió, lại trĩu lên tim ta những vết hằn.</em> </li> </ol> '"
      ]
     },
     "execution_count": 43,
     "metadata": {},
     "output_type": "execute_result"
    }
   ],
   "source": [
    "strr = string.replace('>', '> ')\n",
    "strr"
   ]
  },
  {
   "cell_type": "code",
   "execution_count": 62,
   "metadata": {},
   "outputs": [
    {
     "data": {
      "text/plain": [
       "'<ol> <li class=\"ql-align-center\"> <em> Em không là nàng thơ <,>  anh cũng không còn là nhạc sĩ mộng mơ <.> </em> </li> <li class=\"ql-align-center\"> <em> Tình này nhẹ như gió <,>  lại trĩu lên tim ta những vết hằn <.> </em> </li> </ol> '"
      ]
     },
     "execution_count": 62,
     "metadata": {},
     "output_type": "execute_result"
    }
   ],
   "source": [
    "text = strr\n",
    "for i in dau:\n",
    "    index = text.find(i)\n",
    "    if index == -1:\n",
    "        text = text\n",
    "    else: \n",
    "        replace = ' <'+ i + '> '\n",
    "        text = text.replace(i,replace)\n",
    "text"
   ]
  },
  {
   "cell_type": "code",
   "execution_count": 63,
   "metadata": {},
   "outputs": [
    {
     "name": "stdout",
     "output_type": "stream",
     "text": [
      "['<ol>', '<li', 'class=\"ql-align-center\">', '<em>', 'Em', 'không', 'là', 'nàng', 'thơ', '<,>', '', 'anh', 'cũng', 'không', 'còn', 'là', 'nhạc', 'sĩ', 'mộng', 'mơ', '<.>', '</em>', '</li>', '<li', 'class=\"ql-align-center\">', '<em>', 'Tình', 'này', 'nhẹ', 'như', 'gió', '<,>', '', 'lại', 'trĩu', 'lên', 'tim', 'ta', 'những', 'vết', 'hằn', '<.>', '</em>', '</li>', '</ol>', '']\n"
     ]
    }
   ],
   "source": [
    "result = re.split(pattern, text) \n",
    "print(result)"
   ]
  },
  {
   "cell_type": "code",
   "execution_count": 53,
   "metadata": {},
   "outputs": [
    {
     "data": {
      "text/plain": [
       "['<ol>',\n",
       " '<li',\n",
       " 'class=\"ql-align-center\">',\n",
       " '<em>',\n",
       " 'Em',\n",
       " 'không',\n",
       " 'là',\n",
       " 'nàng',\n",
       " 'thơ',\n",
       " '<,>',\n",
       " '',\n",
       " 'anh',\n",
       " 'cũng',\n",
       " 'không',\n",
       " 'còn',\n",
       " 'là',\n",
       " 'nhạc',\n",
       " 'sĩ',\n",
       " 'mộng',\n",
       " 'mơ',\n",
       " '<.>',\n",
       " '</em>',\n",
       " '</li>',\n",
       " '<li',\n",
       " 'class=\"ql-align-center\">',\n",
       " '<em>',\n",
       " 'Tình',\n",
       " 'này',\n",
       " 'nhẹ',\n",
       " 'như',\n",
       " 'gió',\n",
       " '<,>',\n",
       " '',\n",
       " 'lại',\n",
       " 'trĩu',\n",
       " 'lên',\n",
       " 'tim',\n",
       " 'ta',\n",
       " 'những',\n",
       " 'vết',\n",
       " 'hằn',\n",
       " '<.>',\n",
       " '</em>',\n",
       " '</li>',\n",
       " '</ol>',\n",
       " '']"
      ]
     },
     "execution_count": 53,
     "metadata": {},
     "output_type": "execute_result"
    }
   ],
   "source": [
    "result"
   ]
  },
  {
   "cell_type": "code",
   "execution_count": 81,
   "metadata": {},
   "outputs": [
    {
     "name": "stdout",
     "output_type": "stream",
     "text": [
      "<ol>\n",
      "ok\n"
     ]
    }
   ],
   "source": [
    "pattern1 = '^<'\n",
    "pattern2 = '>$'\n",
    "pattern3 = '^<[\\s|\\w|\\W]{1,1000}>$'\n",
    "print(result[0])\n",
    "regx1 = re.match(pattern1, result[0])\n",
    "regx2 = re.match(pattern2, result[0])\n",
    "regx3 = re.match(pattern3, result[0])\n",
    "if regx3:\n",
    "    print('ok')\n",
    "else: \n",
    "    print('not ok')"
   ]
  },
  {
   "cell_type": "code",
   "execution_count": 84,
   "metadata": {},
   "outputs": [],
   "source": [
    "import re\n",
    "results = []\n",
    "pattern1 = '^<'\n",
    "pattern2 = '>$'\n",
    "pattern3 = '^<[\\s|\\w|\\W]{1,100000}>$'\n",
    "\n",
    "index = 0\n",
    "while index < len(result):\n",
    "    regx1 = re.match(pattern1, result[index])\n",
    "    regx2 = re.match(pattern2, result[index])\n",
    "    regx3 = re.match(pattern3, result[index])\n",
    "    if regx3:\n",
    "        results.append(result[index])\n",
    "        index = index + 1\n",
    "    elif regx1 and not regx2:\n",
    "        results.append(result[index] + ' ' + result[index + 1])\n",
    "        index = index + 2\n",
    "    elif regx2 and not regx1:\n",
    "        index = index + 1\n",
    "    elif result[index] == '': \n",
    "        index = index + 1\n",
    "    else:\n",
    "        results.append(result[index])\n",
    "        index = index + 1"
   ]
  },
  {
   "cell_type": "code",
   "execution_count": 83,
   "metadata": {},
   "outputs": [
    {
     "data": {
      "text/plain": [
       "['<ol>',\n",
       " '<li class=\"ql-align-center\">',\n",
       " '<em>',\n",
       " 'Em',\n",
       " 'không',\n",
       " 'là',\n",
       " 'nàng',\n",
       " 'thơ',\n",
       " '<,>',\n",
       " 'anh',\n",
       " 'cũng',\n",
       " 'không',\n",
       " 'còn',\n",
       " 'là',\n",
       " 'nhạc',\n",
       " 'sĩ',\n",
       " 'mộng',\n",
       " 'mơ',\n",
       " '<.>',\n",
       " '</em>',\n",
       " '</li>',\n",
       " '<li class=\"ql-align-center\">',\n",
       " '<em>',\n",
       " 'Tình',\n",
       " 'này',\n",
       " 'nhẹ',\n",
       " 'như',\n",
       " 'gió',\n",
       " '<,>',\n",
       " 'lại',\n",
       " 'trĩu',\n",
       " 'lên',\n",
       " 'tim',\n",
       " 'ta',\n",
       " 'những',\n",
       " 'vết',\n",
       " 'hằn',\n",
       " '<.>',\n",
       " '</em>',\n",
       " '</li>',\n",
       " '</ol>']"
      ]
     },
     "execution_count": 83,
     "metadata": {},
     "output_type": "execute_result"
    }
   ],
   "source": [
    "results"
   ]
  },
  {
   "cell_type": "code",
   "execution_count": 92,
   "metadata": {},
   "outputs": [
    {
     "data": {
      "text/plain": [
       "[{'index': 0, 'type': 1, 'word': '<ol>'},\n",
       " {'index': 1, 'type': 1, 'word': '<li class=\"ql-align-center\">'},\n",
       " {'index': 2, 'type': 1, 'word': '<em>'},\n",
       " {'index': 3, 'type': 0, 'word': 'Em'},\n",
       " {'index': 4, 'type': 0, 'word': 'không'},\n",
       " {'index': 5, 'type': 0, 'word': 'là'},\n",
       " {'index': 6, 'type': 0, 'word': 'nàng'},\n",
       " {'index': 7, 'type': 0, 'word': 'thơ'},\n",
       " {'index': 8, 'type': 1, 'word': '<,>'},\n",
       " {'index': 9, 'type': 0, 'word': 'anh'},\n",
       " {'index': 10, 'type': 0, 'word': 'cũng'},\n",
       " {'index': 11, 'type': 0, 'word': 'không'},\n",
       " {'index': 12, 'type': 0, 'word': 'còn'},\n",
       " {'index': 13, 'type': 0, 'word': 'là'},\n",
       " {'index': 14, 'type': 0, 'word': 'nhạc'},\n",
       " {'index': 15, 'type': 0, 'word': 'sĩ'},\n",
       " {'index': 16, 'type': 0, 'word': 'mộng'},\n",
       " {'index': 17, 'type': 0, 'word': 'mơ'},\n",
       " {'index': 18, 'type': 1, 'word': '<.>'},\n",
       " {'index': 19, 'type': 1, 'word': '</em>'},\n",
       " {'index': 20, 'type': 1, 'word': '</li>'},\n",
       " {'index': 21, 'type': 1, 'word': '<li class=\"ql-align-center\">'},\n",
       " {'index': 22, 'type': 1, 'word': '<em>'},\n",
       " {'index': 23, 'type': 0, 'word': 'Tình'},\n",
       " {'index': 24, 'type': 0, 'word': 'này'},\n",
       " {'index': 25, 'type': 0, 'word': 'nhẹ'},\n",
       " {'index': 26, 'type': 0, 'word': 'như'},\n",
       " {'index': 27, 'type': 0, 'word': 'gió'},\n",
       " {'index': 28, 'type': 1, 'word': '<,>'},\n",
       " {'index': 29, 'type': 0, 'word': 'lại'},\n",
       " {'index': 30, 'type': 0, 'word': 'trĩu'},\n",
       " {'index': 31, 'type': 0, 'word': 'lên'},\n",
       " {'index': 32, 'type': 0, 'word': 'tim'},\n",
       " {'index': 33, 'type': 0, 'word': 'ta'},\n",
       " {'index': 34, 'type': 0, 'word': 'những'},\n",
       " {'index': 35, 'type': 0, 'word': 'vết'},\n",
       " {'index': 36, 'type': 0, 'word': 'hằn'},\n",
       " {'index': 37, 'type': 1, 'word': '<.>'},\n",
       " {'index': 38, 'type': 1, 'word': '</em>'},\n",
       " {'index': 39, 'type': 1, 'word': '</li>'},\n",
       " {'index': 40, 'type': 1, 'word': '</ol>'}]"
      ]
     },
     "execution_count": 92,
     "metadata": {},
     "output_type": "execute_result"
    }
   ],
   "source": [
    "list_sen = []\n",
    "for (index, word) in enumerate(results):\n",
    "    wrd = {}\n",
    "    regx3 = re.match(pattern3, word)\n",
    "    if regx3:\n",
    "        wrd = {\n",
    "            \"index\": index,\n",
    "            \"type\": 1,\n",
    "            \"word\": word\n",
    "            }\n",
    "    else:\n",
    "        wrd = {\n",
    "            \"index\": index,\n",
    "            \"type\": 0,\n",
    "            \"word\": word\n",
    "            }\n",
    "    list_sen.append(wrd)\n",
    "        \n",
    "list_sen"
   ]
  },
  {
   "cell_type": "code",
   "execution_count": 96,
   "metadata": {},
   "outputs": [
    {
     "data": {
      "text/plain": [
       "'Em không là nàng thơ anh cũng không còn là nhạc sĩ mộng mơ Tình này nhẹ như gió lại trĩu lên tim ta những vết hằn '"
      ]
     },
     "execution_count": 96,
     "metadata": {},
     "output_type": "execute_result"
    }
   ],
   "source": [
    "sentence_raw = ''\n",
    "count = 0\n",
    "for wd in list_sen:\n",
    "    if wd['type'] == 0:\n",
    "        sentence_raw = sentence_raw + wd['word'] + ' '\n",
    "        count = count + 1\n",
    "        \n",
    "sentence_raw"
   ]
  },
  {
   "cell_type": "code",
   "execution_count": 99,
   "metadata": {},
   "outputs": [],
   "source": [
    "out_put = sentence_raw\n",
    "pattern = '\\s'\n",
    "output = re.split(pattern, out_put) "
   ]
  },
  {
   "cell_type": "code",
   "execution_count": 100,
   "metadata": {},
   "outputs": [
    {
     "name": "stdout",
     "output_type": "stream",
     "text": [
      "27\n"
     ]
    },
    {
     "data": {
      "text/plain": [
       "28"
      ]
     },
     "execution_count": 100,
     "metadata": {},
     "output_type": "execute_result"
    }
   ],
   "source": [
    "output[0] = 'EMMM'\n",
    "print(count)\n",
    "len(output)"
   ]
  },
  {
   "cell_type": "code",
   "execution_count": 102,
   "metadata": {},
   "outputs": [
    {
     "data": {
      "text/plain": [
       "[{'index': 0, 'type': 1, 'word': '<ol>'},\n",
       " {'index': 1, 'type': 1, 'word': '<li class=\"ql-align-center\">'},\n",
       " {'index': 2, 'type': 1, 'word': '<em>'},\n",
       " {'index': 3, 'type': 0, 'word': 'EMMM'},\n",
       " {'index': 4, 'type': 0, 'word': 'không'},\n",
       " {'index': 5, 'type': 0, 'word': 'là'},\n",
       " {'index': 6, 'type': 0, 'word': 'nàng'},\n",
       " {'index': 7, 'type': 0, 'word': 'thơ'},\n",
       " {'index': 8, 'type': 1, 'word': '<,>'},\n",
       " {'index': 9, 'type': 0, 'word': 'anh'},\n",
       " {'index': 10, 'type': 0, 'word': 'cũng'},\n",
       " {'index': 11, 'type': 0, 'word': 'không'},\n",
       " {'index': 12, 'type': 0, 'word': 'còn'},\n",
       " {'index': 13, 'type': 0, 'word': 'là'},\n",
       " {'index': 14, 'type': 0, 'word': 'nhạc'},\n",
       " {'index': 15, 'type': 0, 'word': 'sĩ'},\n",
       " {'index': 16, 'type': 0, 'word': 'mộng'},\n",
       " {'index': 17, 'type': 0, 'word': 'mơ'},\n",
       " {'index': 18, 'type': 1, 'word': '<.>'},\n",
       " {'index': 19, 'type': 1, 'word': '</em>'},\n",
       " {'index': 20, 'type': 1, 'word': '</li>'},\n",
       " {'index': 21, 'type': 1, 'word': '<li class=\"ql-align-center\">'},\n",
       " {'index': 22, 'type': 1, 'word': '<em>'},\n",
       " {'index': 23, 'type': 0, 'word': 'Tình'},\n",
       " {'index': 24, 'type': 0, 'word': 'này'},\n",
       " {'index': 25, 'type': 0, 'word': 'nhẹ'},\n",
       " {'index': 26, 'type': 0, 'word': 'như'},\n",
       " {'index': 27, 'type': 0, 'word': 'gió'},\n",
       " {'index': 28, 'type': 1, 'word': '<,>'},\n",
       " {'index': 29, 'type': 0, 'word': 'lại'},\n",
       " {'index': 30, 'type': 0, 'word': 'trĩu'},\n",
       " {'index': 31, 'type': 0, 'word': 'lên'},\n",
       " {'index': 32, 'type': 0, 'word': 'tim'},\n",
       " {'index': 33, 'type': 0, 'word': 'ta'},\n",
       " {'index': 34, 'type': 0, 'word': 'những'},\n",
       " {'index': 35, 'type': 0, 'word': 'vết'},\n",
       " {'index': 36, 'type': 0, 'word': 'hằn'},\n",
       " {'index': 37, 'type': 1, 'word': '<.>'},\n",
       " {'index': 38, 'type': 1, 'word': '</em>'},\n",
       " {'index': 39, 'type': 1, 'word': '</li>'},\n",
       " {'index': 40, 'type': 1, 'word': '</ol>'}]"
      ]
     },
     "execution_count": 102,
     "metadata": {},
     "output_type": "execute_result"
    }
   ],
   "source": [
    "list_sen"
   ]
  },
  {
   "cell_type": "code",
   "execution_count": 103,
   "metadata": {},
   "outputs": [],
   "source": [
    "sentence = ''\n",
    "for word in list_sen:\n",
    "    if word['type'] == 1:\n",
    "        sentence =sentence + word['word']\n",
    "    elif word['type'] == 0:\n",
    "        sentence = sentence + word['word']+ ' '"
   ]
  },
  {
   "cell_type": "code",
   "execution_count": 105,
   "metadata": {},
   "outputs": [
    {
     "data": {
      "text/plain": [
       "'<ol><li class=\"ql-align-center\"><em>EMMM không là nàng thơ <,>anh cũng không còn là nhạc sĩ mộng mơ <.></em></li><li class=\"ql-align-center\"><em>Tình này nhẹ như gió <,>lại trĩu lên tim ta những vết hằn <.></em></li></ol>'"
      ]
     },
     "execution_count": 105,
     "metadata": {},
     "output_type": "execute_result"
    }
   ],
   "source": [
    "sentence"
   ]
  },
  {
   "cell_type": "code",
   "execution_count": 108,
   "metadata": {},
   "outputs": [],
   "source": [
    "rs = sentence\n",
    "for i in dau:\n",
    "    i_tag = ' <' + i+'>'\n",
    "    index =rs.find(i_tag)\n",
    "    if index == -1:\n",
    "        rs= rs\n",
    "    else: \n",
    "        replace = i + ' '\n",
    "        rs=rs.replace(i_tag,replace)"
   ]
  },
  {
   "cell_type": "code",
   "execution_count": 109,
   "metadata": {},
   "outputs": [
    {
     "data": {
      "text/plain": [
       "'<ol><li class=\"ql-align-center\"><em>EMMM không là nàng thơ, anh cũng không còn là nhạc sĩ mộng mơ. </em></li><li class=\"ql-align-center\"><em>Tình này nhẹ như gió, lại trĩu lên tim ta những vết hằn. </em></li></ol>'"
      ]
     },
     "execution_count": 109,
     "metadata": {},
     "output_type": "execute_result"
    }
   ],
   "source": [
    "rs"
   ]
  },
  {
   "cell_type": "markdown",
   "metadata": {},
   "source": [
    "### Test"
   ]
  },
  {
   "cell_type": "code",
   "execution_count": 10,
   "metadata": {},
   "outputs": [
    {
     "name": "stdout",
     "output_type": "stream",
     "text": [
      "Collecting bogo\n",
      "  Downloading bogo-1.1.tar.gz (23 kB)\n",
      "Building wheels for collected packages: bogo\n",
      "  Building wheel for bogo (setup.py): started\n",
      "  Building wheel for bogo (setup.py): finished with status 'done'\n",
      "  Created wheel for bogo: filename=bogo-1.1-py3-none-any.whl size=28141 sha256=c5dce5923d4dc1d1905d60607b077b2acf0c955fae7418da1c874f74c9f12400\n",
      "  Stored in directory: c:\\users\\quang\\appdata\\local\\pip\\cache\\wheels\\fc\\43\\54\\6234329fdf1666d0cba7bf11a14e9c8fc48c88300774883ce8\n",
      "Successfully built bogo\n",
      "Installing collected packages: bogo\n",
      "Successfully installed bogo-1.1\n"
     ]
    }
   ],
   "source": [
    "!pip install bogo"
   ]
  },
  {
   "cell_type": "code",
   "execution_count": 13,
   "metadata": {},
   "outputs": [
    {
     "data": {
      "text/plain": [
       "'mèo'"
      ]
     },
     "execution_count": 13,
     "metadata": {},
     "output_type": "execute_result"
    }
   ],
   "source": [
    "import bogo\n",
    "bogo.process_sequence('mefo')"
   ]
  },
  {
   "cell_type": "markdown",
   "metadata": {},
   "source": [
    "Test2"
   ]
  },
  {
   "cell_type": "code",
   "execution_count": 3,
   "metadata": {},
   "outputs": [
    {
     "name": "stdout",
     "output_type": "stream",
     "text": [
      "68\n",
      "['<p>', 'Khi', 'anh', 'qua', 'thung', 'lũng', '</p>', '<p>', 'Và', 'bóng', 'đêm', 'ghì', 'bàn', 'chân', '</p>', '<p>', 'Đời', 'khiến', 'anh', 'chẳng', 'còn', 'nhiều', 'luyến', 'lưu,', '</p>', '<p>', 'em', 'mong', 'lau', 'mắt', 'anh', 'khô', '</p>', '<p>', 'Ta', 'yêu', 'sai', 'hay', 'đúng?', '</p>', '<p>', 'Còn', 'thấy', 'đau', 'là', 'còn', 'thương', '</p>', '<p>', 'Khi', 'bão', 'qua', 'rồi', 'biết', 'đâu', 'sẽ', 'đi', 'tới', 'nơi', 'của', 'ngày', 'đầu', '</p>', '<p>', 'Hết', 'muộn', 'sầu', '</p>']\n",
      "-----------------\n",
      "84\n",
      "['', '<p>', 'Khi', 'anh', 'qua', 'thung', 'lũng', '', '</p>', '', '<p>', 'Và', 'bóng', 'đêm', 'ghì', 'bàn', 'chân', '', '</p>', '', '<p>', 'Đời', 'khiến', 'anh', 'chẳng', 'còn', 'nhiều', 'luyến', 'lưu,', '', '</p>', '', '<p>', 'em', 'mong', 'lau', 'mắt', 'anh', 'khô', '', '</p>', '', '<p>', 'Ta', 'yêu', 'sai', 'hay', 'đúng?', '', '</p>', '', '<p>', 'Còn', 'thấy', 'đau', 'là', 'còn', 'thương', '', '</p>', '', '<p>', 'Khi', 'bão', 'qua', 'rồi', 'biết', 'đâu', 'sẽ', 'đi', 'tới', 'nơi', 'của', 'ngày', 'đầu', '', '</p>', '', '<p>', 'Hết', 'muộn', 'sầu', '</p>', '']\n"
     ]
    }
   ],
   "source": [
    "import re\n",
    "str1 = \"<p>Khi anh qua thung lũng </p><p>Và bóng đêm ghì bàn chân </p><p>Đời khiến anh chẳng còn nhiều luyến lưu, </p><p>em mong lau mắt anh khô </p><p>Ta yêu sai hay đúng? </p><p>Còn thấy đau là còn thương </p><p>Khi bão qua rồi biết đâu sẽ đi tới nơi của ngày đầu </p><p>Hết muộn sầu</p>\"\n",
    "pattern = '\\s'\n",
    "str2 = str1.replace('>', '> ')\n",
    "str2 = str2.replace('<', ' <')\n",
    "list_words = re.split(pattern, str2)\n",
    "list2 = []\n",
    "i = 0\n",
    "for lt in list_words:\n",
    "    if lt != '':\n",
    "        list2.append(lt)\n",
    "    else: \n",
    "        i = i + 1\n",
    "print(len(list2))\n",
    "print(list2)\n",
    "print(\"-----------------\")\n",
    "print(len(list_words))\n",
    "print(list_words)"
   ]
  },
  {
   "cell_type": "code",
   "execution_count": null,
   "metadata": {},
   "outputs": [],
   "source": []
  }
 ],
 "metadata": {
  "kernelspec": {
   "display_name": "Python 3",
   "language": "python",
   "name": "python3"
  },
  "language_info": {
   "codemirror_mode": {
    "name": "ipython",
    "version": 3
   },
   "file_extension": ".py",
   "mimetype": "text/x-python",
   "name": "python",
   "nbconvert_exporter": "python",
   "pygments_lexer": "ipython3",
   "version": "3.8.5"
  }
 },
 "nbformat": 4,
 "nbformat_minor": 4
}
